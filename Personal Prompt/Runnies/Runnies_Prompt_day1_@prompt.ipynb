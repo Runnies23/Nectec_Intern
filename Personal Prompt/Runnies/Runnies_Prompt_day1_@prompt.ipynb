{
 "cells": [
  {
   "cell_type": "code",
   "execution_count": 8,
   "metadata": {},
   "outputs": [
    {
     "name": "stdout",
     "output_type": "stream",
     "text": [
      "You are a planner teacher for student learning. The Student want to learn how to create a chat gpt. So Create a guideline that he should study skill or knowledge before create a chat gpt \n",
      "write the Answer in the Json format and English Language \n",
      "[\n",
      "['Topic' :'q1',\n",
      "'detail' : 'd1'\n",
      "],\n",
      "                    \n",
      "'Topic' :'q2',\n",
      "'detail' : 'd2'\n",
      "]\n",
      "]\n",
      "\n"
     ]
    }
   ],
   "source": [
    "#Create content \n",
    "Topic = \"create a chat gpt\"\n",
    "Prompt = f\"\"\"You are a planner teacher for student learning. The Student want to learn how to {Topic}. So Create a guideline that he should study skill or knowledge before {Topic} \n",
    "write the Answer in the Json format and English Language \n",
    "\n",
    "'Learning1' : ['Topic' :'q1',\n",
    "                    'detail' : 'd1'\n",
    "                ],\n",
    "                    \n",
    "'Learning2' : 'Topic' :'q2',\n",
    "                'detail' : 'd2'\n",
    "                ]\n",
    "\"\"\"\n",
    "print(Prompt)"
   ]
  },
  {
   "cell_type": "code",
   "execution_count": 26,
   "metadata": {},
   "outputs": [],
   "source": [
    "Answer = \"\"\"'Learning1' : {'Topic' :'Python Programming','detail' : 'Understanding of Python syntax, data structures, functions, and object-oriented programming.'},\n",
    "\n",
    "'Learning2' : {'Topic' :'Machine Learning Basics','detail' : 'Knowledge of machine learning concepts such as supervised and unsupervised learning, regression, classification, clustering, and model evaluation metrics.'},\n",
    "\n",
    "'Learning3' : {'Topic' :'Natural Language Processing (NLP)','detail' : 'Understanding of NLP techniques such as text preprocessing, tokenization, sentiment analysis, and topic modeling.'},\n",
    "\n",
    "'Learning4' : {'Topic' :'Transformer Architecture','detail' : 'Familiarity with the transformer architecture and its applications in NLP, including BERT, GPT, and other language models.'},\n",
    "\n",
    "'Learning5' : {'Topic' :'Dataset Collection and Preprocessing','detail' : 'Skills in collecting, cleaning, and preprocessing datasets for training chatbots.'},\n",
    "\n",
    "'Learning6' : {'Topic' :'Model Training and Fine-tuning','detail' : 'Understanding of how to train and fine-tune pre-trained language models for chatbot development.'},\n",
    "\n",
    "'Learning7' : {'Topic' :'Chatbot Frameworks and Libraries','detail' : 'Knowledge of popular chatbot frameworks and libraries such as Rasa, Dialogflow, and Microsoft Bot Framework.'},\n",
    "\n",
    "'Learning8' : {'Topic' :'Deployment and Integration','detail' : 'Skills in deploying chatbots on various platforms and integrating them with other systems.'},\n",
    "\n",
    "'Learning9' : {'Topic' :'Conversational Design','detail' : 'Understanding of conversational design principles and how to create engaging and user-friendly chatbot interfaces.'},\n",
    "\n",
    "'Learning10' : {'Topic' :'Testing and Evaluation','detail' : 'Knowledge of testing and evaluation methods for chatbots, including performance metrics and user feedback analysis.'}\"\"\""
   ]
  },
  {
   "cell_type": "code",
   "execution_count": 21,
   "metadata": {},
   "outputs": [
    {
     "name": "stdout",
     "output_type": "stream",
     "text": [
      "{\"Learning1\" : {\"Topic\" :\"Python Programming\",\"detail\" : \"Understanding of Python syntax, data structures, functions, and object-oriented programming.\"},\n",
      "\n",
      "\"Learning2\" : {\"Topic\" :\"Machine Learning Basics\",\"detail\" : \"Knowledge of machine learning concepts such as supervised and unsupervised learning, regression, classification, clustering, and model evaluation metrics.\"},\n",
      "\n",
      "\"Learning3\" : {\"Topic\" :\"Natural Language Processing (NLP)\",\"detail\" : \"Understanding of NLP techniques such as text preprocessing, tokenization, sentiment analysis, and topic modeling.\"},\n",
      "\n",
      "\"Learning4\" : {\"Topic\" :\"Transformer Architecture\",\"detail\" : \"Familiarity with the transformer architecture and its applications in NLP, including BERT, GPT, and other language models.\"},\n",
      "\n",
      "\"Learning5\" : {\"Topic\" :\"Dataset Collection and Preprocessing\",\"detail\" : \"Skills in collecting, cleaning, and preprocessing datasets for training chatbots.\"},\n",
      "\n",
      "\"Learning6\" : {\"Topic\" :\"Model Training and Fine-tuning\",\"detail\" : \"Understanding of how to train and fine-tune pre-trained language models for chatbot development.\"},\n",
      "\n",
      "\"Learning7\" : {\"Topic\" :\"Chatbot Frameworks and Libraries\",\"detail\" : \"Knowledge of popular chatbot frameworks and libraries such as Rasa, Dialogflow, and Microsoft Bot Framework.\"},\n",
      "\n",
      "\"Learning8\" : {\"Topic\" :\"Deployment and Integration\",\"detail\" : \"Skills in deploying chatbots on various platforms and integrating them with other systems.\"},\n",
      "\n",
      "\"Learning9\" : {\"Topic\" :\"Conversational Design\",\"detail\" : \"Understanding of conversational design principles and how to create engaging and user-friendly chatbot interfaces.\"},\n",
      "\n",
      "\"Learning10\" : {\"Topic\" :\"Testing and Evaluation\",\"detail\" : \"Knowledge of testing and evaluation methods for chatbots, including performance metrics and user feedback analysis.\"}}\n"
     ]
    },
    {
     "data": {
      "text/html": [
       "<div>\n",
       "<style scoped>\n",
       "    .dataframe tbody tr th:only-of-type {\n",
       "        vertical-align: middle;\n",
       "    }\n",
       "\n",
       "    .dataframe tbody tr th {\n",
       "        vertical-align: top;\n",
       "    }\n",
       "\n",
       "    .dataframe thead th {\n",
       "        text-align: right;\n",
       "    }\n",
       "</style>\n",
       "<table border=\"1\" class=\"dataframe\">\n",
       "  <thead>\n",
       "    <tr style=\"text-align: right;\">\n",
       "      <th></th>\n",
       "      <th>Topic</th>\n",
       "      <th>detail</th>\n",
       "    </tr>\n",
       "  </thead>\n",
       "  <tbody>\n",
       "    <tr>\n",
       "      <th>0</th>\n",
       "      <td>Python Programming</td>\n",
       "      <td>Understanding of Python syntax, data structure...</td>\n",
       "    </tr>\n",
       "    <tr>\n",
       "      <th>1</th>\n",
       "      <td>Machine Learning Basics</td>\n",
       "      <td>Knowledge of machine learning concepts such as...</td>\n",
       "    </tr>\n",
       "    <tr>\n",
       "      <th>2</th>\n",
       "      <td>Natural Language Processing (NLP)</td>\n",
       "      <td>Understanding of NLP techniques such as text p...</td>\n",
       "    </tr>\n",
       "    <tr>\n",
       "      <th>3</th>\n",
       "      <td>Transformer Architecture</td>\n",
       "      <td>Familiarity with the transformer architecture ...</td>\n",
       "    </tr>\n",
       "    <tr>\n",
       "      <th>4</th>\n",
       "      <td>Dataset Collection and Preprocessing</td>\n",
       "      <td>Skills in collecting, cleaning, and preprocess...</td>\n",
       "    </tr>\n",
       "    <tr>\n",
       "      <th>5</th>\n",
       "      <td>Model Training and Fine-tuning</td>\n",
       "      <td>Understanding of how to train and fine-tune pr...</td>\n",
       "    </tr>\n",
       "    <tr>\n",
       "      <th>6</th>\n",
       "      <td>Chatbot Frameworks and Libraries</td>\n",
       "      <td>Knowledge of popular chatbot frameworks and li...</td>\n",
       "    </tr>\n",
       "    <tr>\n",
       "      <th>7</th>\n",
       "      <td>Deployment and Integration</td>\n",
       "      <td>Skills in deploying chatbots on various platfo...</td>\n",
       "    </tr>\n",
       "    <tr>\n",
       "      <th>8</th>\n",
       "      <td>Conversational Design</td>\n",
       "      <td>Understanding of conversational design princip...</td>\n",
       "    </tr>\n",
       "    <tr>\n",
       "      <th>9</th>\n",
       "      <td>Testing and Evaluation</td>\n",
       "      <td>Knowledge of testing and evaluation methods fo...</td>\n",
       "    </tr>\n",
       "  </tbody>\n",
       "</table>\n",
       "</div>"
      ],
      "text/plain": [
       "                                  Topic  \\\n",
       "0                    Python Programming   \n",
       "1               Machine Learning Basics   \n",
       "2     Natural Language Processing (NLP)   \n",
       "3              Transformer Architecture   \n",
       "4  Dataset Collection and Preprocessing   \n",
       "5        Model Training and Fine-tuning   \n",
       "6      Chatbot Frameworks and Libraries   \n",
       "7            Deployment and Integration   \n",
       "8                 Conversational Design   \n",
       "9                Testing and Evaluation   \n",
       "\n",
       "                                              detail  \n",
       "0  Understanding of Python syntax, data structure...  \n",
       "1  Knowledge of machine learning concepts such as...  \n",
       "2  Understanding of NLP techniques such as text p...  \n",
       "3  Familiarity with the transformer architecture ...  \n",
       "4  Skills in collecting, cleaning, and preprocess...  \n",
       "5  Understanding of how to train and fine-tune pr...  \n",
       "6  Knowledge of popular chatbot frameworks and li...  \n",
       "7  Skills in deploying chatbots on various platfo...  \n",
       "8  Understanding of conversational design princip...  \n",
       "9  Knowledge of testing and evaluation methods fo...  "
      ]
     },
     "execution_count": 21,
     "metadata": {},
     "output_type": "execute_result"
    }
   ],
   "source": [
    "import pandas as pd\n",
    "import json\n",
    "\n",
    "Answer = Answer.replace(\"'\",'\"')\n",
    "print(Answer)\n",
    "questions_json = json.loads(Answer)\n",
    "\n",
    "df = pd.DataFrame([\n",
    "    # {\"Topic\": q_info['Topic'], **q_info['detail']}\n",
    "    {\"Topic\": q_info['Topic'],\"detail\": q_info['detail']}\n",
    "    for q_key, q_info in questions_json.items()\n",
    "])\n",
    "\n",
    "# Print the DataFrame\n",
    "(df)"
   ]
  },
  {
   "cell_type": "code",
   "execution_count": 29,
   "metadata": {},
   "outputs": [],
   "source": [
    "def ReturnJsonFormat(Text_Json_format):\n",
    "    Text_Json = \"{\" + Text_Json_format + \"}\"\n",
    "    Text_Json = Text_Json.replace(\"'\",'\"').replace('[','}').replace(']','}')\n",
    "    # print(Text_Json)\n",
    "    return json.loads(Text_Json)"
   ]
  },
  {
   "cell_type": "code",
   "execution_count": 30,
   "metadata": {},
   "outputs": [],
   "source": [
    "Json = ReturnJsonaFormat(Answer)"
   ]
  },
  {
   "cell_type": "code",
   "execution_count": null,
   "metadata": {},
   "outputs": [],
   "source": []
  },
  {
   "cell_type": "code",
   "execution_count": null,
   "metadata": {},
   "outputs": [],
   "source": []
  },
  {
   "cell_type": "code",
   "execution_count": null,
   "metadata": {},
   "outputs": [],
   "source": [
    "#Generate the 10 question about student knowing the content to learn  \n",
    "Topic = \"\"\n",
    "\n",
    "Prompt = f\"\"\"You are a planner teacher for student learning. The Student want to learn how to {Topic}. So Create a guideline what should he learning for {Topic} \n",
    "write the Answer in the Json format\n",
    "```\n",
    "\n",
    "```\n",
    "\"\"\"\n",
    "print(Prompt)"
   ]
  },
  {
   "cell_type": "code",
   "execution_count": 6,
   "metadata": {},
   "outputs": [
    {
     "name": "stdout",
     "output_type": "stream",
     "text": [
      "You are a planner teacher for student learning. The Student want to learn to create a chat gpt in 6 hour.So tell me this student possible to learn this skill in 6 hour ? \n",
      "Answer In Text Format Like 'Possible' or 'Impossible'\n",
      "    When answer 'Impossible' add the season why and answer in format \n",
      "    Reason : [Reason]\n",
      "     \n",
      "\n"
     ]
    }
   ],
   "source": [
    "#Possible and Impossible Learning \n",
    "Topic = \"create a chat gpt\"\n",
    "Time = \"6 hour\"\n",
    "Prompt = f\"\"\"You are a planner teacher for student learning. The Student want to learn to {Topic} in {Time}.So tell me this student possible to learn this skill in {Time} ? \n",
    "Answer In Text Format Like 'Possible' or 'Impossible'\n",
    "    When answer 'Impossible' add the season why and answer in format \n",
    "    Reason : [Reason]  \n",
    "\"\"\"\n",
    "print(Prompt)"
   ]
  }
 ],
 "metadata": {
  "kernelspec": {
   "display_name": "Python 3",
   "language": "python",
   "name": "python3"
  },
  "language_info": {
   "codemirror_mode": {
    "name": "ipython",
    "version": 3
   },
   "file_extension": ".py",
   "mimetype": "text/x-python",
   "name": "python",
   "nbconvert_exporter": "python",
   "pygments_lexer": "ipython3",
   "version": "3.11.7"
  }
 },
 "nbformat": 4,
 "nbformat_minor": 2
}
