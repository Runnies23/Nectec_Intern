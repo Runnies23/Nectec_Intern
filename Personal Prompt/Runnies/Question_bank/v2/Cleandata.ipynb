{
 "cells": [
  {
   "cell_type": "code",
   "execution_count": 2,
   "metadata": {},
   "outputs": [],
   "source": [
    "import pandas as pd "
   ]
  },
  {
   "cell_type": "code",
   "execution_count": 8,
   "metadata": {},
   "outputs": [],
   "source": [
    "# df1 = pd.read_csv(\"Question_bank_Topic_v2_1.csv\")\n",
    "# df1 = df1.drop(['Unnamed: 0'],axis=1)\n",
    "# df2 = pd.read_csv(\"Question_bank_Topic_v2_2.csv\")\n",
    "# df_concat = pd.concat([df1,df2])\n",
    "# df_concat.to_csv(\"Concat_Question_Bank_Topic_V2.csv\")"
   ]
  },
  {
   "cell_type": "code",
   "execution_count": 59,
   "metadata": {},
   "outputs": [
    {
     "data": {
      "text/plain": [
       "array(['Decorators', 'Context Managers',\n",
       "       'Decorators and Context Managers', 'List', 'Dictionary', 'Set',\n",
       "       'List and Set', 'Iterators', 'Generators',\n",
       "       'Iterators and Generators', 'Class and Objects', 'Inheritance',\n",
       "       'Encapsulation', 'Methods', 'Special Methods', 'Polymorphism',\n",
       "       'Modules', 'Imports', 'ErrorHandling', 'Input and Output',\n",
       "       'การสร้าง Dictionary', 'การเพิ่มค่าใน Dictionary',\n",
       "       'การเข้าถึงค่าใน Dictionary', 'การลบค่าใน Dictionary',\n",
       "       'การคัดลอก Dictionary', 'การตรวจสอบคีย์ใน Dictionary',\n",
       "       'การเรียงลำดับค่าใน Dictionary', 'การรวม Dictionary',\n",
       "       'การแปลง Dictionary เป็น String', 'Tuple', 'List Comprehension',\n",
       "       'Lists', 'Function Inputs', 'Calling Functions',\n",
       "       'Function Returns', 'Function Parameters', 'Recursive Functions',\n",
       "       'Function Scope', 'Function as Data', 'Function as Filter',\n",
       "       'Function as Transformer', 'Function as Generator', 'Loops',\n",
       "       'Control Flow', 'Variables and Data Types', 'Context Manager',\n",
       "       'การใช้งานเบื้องต้นของ Decorator', 'การทำงานของ Decorator',\n",
       "       'Iterators_and_Generators', 'Class Creation',\n",
       "       'Object Instantiation', 'Constructor', 'String Representation',\n",
       "       'Abstract Class', 'Immutability', 'Static Method',\n",
       "       'Modules and Imports', 'Basic Set', 'Set Creation',\n",
       "       'Set Properties', 'Set Operations', 'Set Applications',\n",
       "       'Set Limitations', 'Basic of List', 'List Methods',\n",
       "       'Function Arguments', 'Calling a Function', 'Defining a Function',\n",
       "       'Function Return', 'Function Default Arguments',\n",
       "       'Function Keyword Arguments', 'Function Variable-Length Arguments',\n",
       "       'Function Purpose', 'Function Reusability',\n",
       "       'Function Multiple Arguments', 'Variables_and_DataTypes'],\n",
       "      dtype=object)"
      ]
     },
     "execution_count": 59,
     "metadata": {},
     "output_type": "execute_result"
    }
   ],
   "source": [
    "df_clean =  pd.read_csv(\"Concat_Question_Bank_Topic_V2.csv\")\n",
    "df_clean['Topic'].unique()"
   ]
  },
  {
   "cell_type": "code",
   "execution_count": 86,
   "metadata": {},
   "outputs": [],
   "source": [
    "def replace_topic(Text):  \n",
    "    Dict = {\n",
    "        \"Set\": [\"Sets\", \"Set Methods\", \"List and Set\", \"Basic Set\", \"Set Creation\", \"Set Properties\", \"Set Operations\", \"Set Applications\", \"Set Limitations\"],\n",
    "        \"ContextManagers\": [\"Context Managers\", \"Decorators and Context Managers\", \"Context Manager\",\"Decorators and ContextManagers\"],\n",
    "        \"List\": [\"Lists\", \"List Comprehension\", \"Basic of List\", \"List Methods\", \"Lists and List Comprehensions\", \"ListsandListComprehensions\"],\n",
    "        \"Dictionaries\": [\"Dictionary\", \"การคัดลอก Dictionary\", \"การตรวจสอบคีย์ใน Dictionary\", \"การรวม Dictionary\", \"การลบค่าใน Dictionary\", \"การสร้าง Dictionary\", \"การเข้าถึงค่าใน Dictionary\", \"การเพิ่มค่าใน Dictionary\", \"การเรียงลำดับค่าใน Dictionary\", \"การแปลง Dictionary เป็น String\",\n",
    "       'การคัดลอก Dictionaries', 'การตรวจสอบคีย์ใน Dictionaries',\n",
    "       'การทำงานของ Decorator', 'การรวม Dictionaries',\n",
    "       'การลบค่าใน Dictionaries', 'การสร้าง Dictionaries',\n",
    "       'การเข้าถึงค่าใน Dictionaries', 'การเพิ่มค่าใน Dictionaries',\n",
    "       'การเรียงลำดับค่าใน Dictionaries',\n",
    "       'การแปลง Dictionaries เป็น String',\n",
    "       'การใช้งานเบื้องต้นของ Decorator'],\n",
    "        \"ControlFlow\": [\"Control Flow\"],\n",
    "        \"Variables_and_DataTypes\": [\"Variables and Data Types\", \"VariablesandDataTypes\"],\n",
    "        \"Functions\": [\"Function Inputs\", \"Calling Functions\", \"Function Returns\", \"Function Parameters\", \"Recursive Functions\", \"Function Scope\", \"Function as Data\", \"Function as Filter\", \"Function as Transformer\", \"Function as Generator\", \"Function Arguments\", \"Calling a Function\", \"Defining a Function\", \"Function Return\", \"Function Default Arguments\", \"Function Keyword Arguments\", \"Function Variable-Length Arguments\", \"Function Purpose\", \"Function Reusability\", \"Function Multiple Arguments\"],\n",
    "        \"Object-OrientedProgramming(OOP)\": [\"Class and Objects\", \"Object Instantiation\", \"Class Creation\", \"Constructor\", \"String Representation\", \"Abstract Class\", \"Immutability\", \"Static Method\", \"Special Methods\", \"Methods\", \"Inheritance\", \"Encapsulation\", \"Polymorphism\"],\n",
    "        \"Iterators\": ['Iterators_and_Generators', 'Iterators_and_Generators', 'Iterators and Generators', 'Generators'],\n",
    "        # \"Imports_hello_hi\": [\"Modules\", \"ModulesandImports\", \"Modules and Imports\",'Modules', 'Modules and Imports',\"Imports\"],\n",
    "        \"Imports\" : ['Modules','Modules and Imports','Imports and Imports'],\n",
    "        \"ErrorHandling\": [\"ErrorHandling\"],\n",
    "    }\n",
    "    for target , org_list in Dict.items():\n",
    "        for org in org_list:\n",
    "            Text = Text.replace(org, target)\n",
    "    return Text\n",
    "\n",
    "def replace_level(Text):\n",
    "    DICT = { \n",
    "        \"['Easy']\" : \"Easy\",\n",
    "        \"['Medium']\" : \"Medium\",\n",
    "        \"['Hard']\" : \"Hard\"\n",
    "    }\n",
    "    for org , target in DICT.items():\n",
    "        Text = Text.replace(org,target)\n",
    "    return Text"
   ]
  },
  {
   "cell_type": "code",
   "execution_count": 90,
   "metadata": {},
   "outputs": [
    {
     "data": {
      "text/plain": [
       "(array(['ControlFlow', 'Decorators and ContextManagers', 'Dictionaries',\n",
       "        'ErrorHandling', 'Functions', 'Imports', 'Input and Output',\n",
       "        'Iterators', 'List', 'Loops', 'Object-OrientedProgramming(OOP)',\n",
       "        'Set', 'Tuple', 'Variables_and_DataTypes'], dtype=object),\n",
       " 14)"
      ]
     },
     "execution_count": 90,
     "metadata": {},
     "output_type": "execute_result"
    }
   ],
   "source": [
    "df_clean =  pd.read_csv(\"Concat_Question_Bank_Topic_V2.csv\")\n",
    "# df_clean =  pd.read_csv(\"Run_question_bank.csv\")\n",
    "df_clean['Topic'] =  df_clean['Topic'].apply(lambda x : replace_topic(x))\n",
    "df_clean['Topic'] =  df_clean['Topic'].replace('Decorators','ContextManagers')\n",
    "df_clean['Topic'] =  df_clean['Topic'].replace('ContextManagers','Decorators and ContextManagers')\n",
    "df_clean['Level'] = df_clean['Level'].apply(lambda x : replace_level(x))\n",
    "df_clean = df_clean.drop_duplicates(subset=['Question'],keep='first')\n",
    "df_clean = df_clean.sort_values(by=['Topic'])\n",
    "df_clean.to_csv(\"Concat_Question_Bank_Topic_V2_BIG_Clearning.csv\",index=False)\n",
    "# len(df_clean['Topic'].unique())\n",
    "df_clean['Topic'].unique() , len(df_clean['Topic'].unique())"
   ]
  },
  {
   "cell_type": "code",
   "execution_count": null,
   "metadata": {},
   "outputs": [],
   "source": []
  }
 ],
 "metadata": {
  "kernelspec": {
   "display_name": "base",
   "language": "python",
   "name": "python3"
  },
  "language_info": {
   "codemirror_mode": {
    "name": "ipython",
    "version": 3
   },
   "file_extension": ".py",
   "mimetype": "text/x-python",
   "name": "python",
   "nbconvert_exporter": "python",
   "pygments_lexer": "ipython3",
   "version": "3.11.7"
  }
 },
 "nbformat": 4,
 "nbformat_minor": 2
}
