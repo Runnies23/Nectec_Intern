{
 "cells": [
  {
   "cell_type": "code",
   "execution_count": 1,
   "metadata": {},
   "outputs": [],
   "source": [
    "import pandas as pd "
   ]
  },
  {
   "cell_type": "code",
   "execution_count": 2,
   "metadata": {},
   "outputs": [],
   "source": [
    "# df1 = pd.read_csv(\"1.csv\")\n",
    "# df2 = pd.read_csv(\"2.csv\")\n",
    "# df3 = pd.read_csv(\"3.csv\")\n",
    "# df4 = pd.read_csv(\"4.csv\")\n",
    "# df_concat = pd.concat([df1,df2,df3,df4])\n",
    "# df_concat.to_csv(\"Run_question_bank.csv\",index=False)"
   ]
  },
  {
   "cell_type": "code",
   "execution_count": 22,
   "metadata": {},
   "outputs": [],
   "source": [
    "def replace_topic(Text):  \n",
    "    Dict = {\n",
    "        \"Set\" : [\"Sets\",\"SetMethods\"],\n",
    "        \"Context Managers\" : [\"ContextManagers\"],\n",
    "        \"List\" : [\"Lists and List Comprehensions\",\"ListsandListComprehensions\"],\n",
    "        \"Dictionaries\" : [\"Dictionary\"]\n",
    "    }\n",
    "    for target , org_list in Dict.items():\n",
    "        for org in org_list:\n",
    "            Text = Text.replace(org, target)\n",
    "    return Text\n",
    "\n",
    "def replace_level(Text):\n",
    "    DICT = { \n",
    "        \"['Easy']\" : \"Easy\",\n",
    "        \"['Medium']\" : \"Medium\",\n",
    "        \"['Hard']\" : \"Hard\"\n",
    "    }\n",
    "    for org , target in DICT.items():\n",
    "        Text = Text.replace(org,target)\n",
    "    return Text"
   ]
  },
  {
   "cell_type": "code",
   "execution_count": 35,
   "metadata": {},
   "outputs": [],
   "source": [
    "df =  pd.read_csv(\"Run_question_bank.csv\")\n",
    "df['Topic'] =  df['Topic'].apply(lambda x : replace_topic(x))\n",
    "df['Level'] = df['Level'].apply(lambda x : replace_level(x))\n",
    "df = df.drop_duplicates(subset=['Question'],keep='first')\n",
    "df = df.sort_values(by=['Topic'])\n",
    "df.to_csv(\"Run_question_bank_Clean.csv\",index=False)"
   ]
  }
 ],
 "metadata": {
  "kernelspec": {
   "display_name": "base",
   "language": "python",
   "name": "python3"
  },
  "language_info": {
   "codemirror_mode": {
    "name": "ipython",
    "version": 3
   },
   "file_extension": ".py",
   "mimetype": "text/x-python",
   "name": "python",
   "nbconvert_exporter": "python",
   "pygments_lexer": "ipython3",
   "version": "3.11.7"
  }
 },
 "nbformat": 4,
 "nbformat_minor": 2
}
