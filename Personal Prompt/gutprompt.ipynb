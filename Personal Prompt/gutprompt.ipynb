{
 "cells": [
  {
   "cell_type": "code",
   "execution_count": 5,
   "metadata": {},
   "outputs": [
    {
     "name": "stdout",
     "output_type": "stream",
     "text": [
      "You are a greatest planner teacher for student learning. The student want to learn to learn all physics formula in 24 hour.\n",
      "So tell me this student is possible to  learn this skill in 24 hour.\n",
      "Answer In Text Format. Like 'Possible' or 'Impossible' \n",
      " When answer is 'impossible' add the reason why and answer in format\n",
      " Reason : [Reason] \n",
      " When answer is 'impossible' make a choice to let's student choose another path to achieve the goal in format.\n",
      "\n",
      " 'or you can choose another path'\n",
      " Path1 : [Path1]\n",
      " Path2 : [Path2]\n",
      " Path3 : [Path3]\n",
      " Path4 : [Path4]\n",
      " ...\n",
      "\n"
     ]
    }
   ],
   "source": [
    "#Possible / Impossible และ มีเส้นทางให้userเลือก\n",
    "Persona = \"greatest planner teacher for student learning\"\n",
    "Topic = \"learn all physics formula\"\n",
    "Time = \"24 hour\"\n",
    "\n",
    "Prompt = f\"\"\"You are a {Persona}. The student want to learn to {Topic} in {Time}.\n",
    "So tell me this student is possible to  learn this skill in {Time}.\n",
    "Answer In Text Format. Like 'Possible' or 'Impossible' \n",
    " When answer is 'impossible' add the reason why and answer in format\n",
    " Reason : [Reason] \n",
    " When answer is 'impossible' make a choice to let's student choose another path to achieve the goal in format.\n",
    "\n",
    " 'or you can choose another path'\n",
    " Path1 : [Path1]\n",
    " Path2 : [Path2]\n",
    " Path3 : [Path3]\n",
    " Path4 : [Path4]\n",
    " ...\n",
    "\"\"\"\n",
    "\n",
    "\n",
    "\n",
    "print(Prompt)"
   ]
  },
  {
   "cell_type": "code",
   "execution_count": 7,
   "metadata": {},
   "outputs": [
    {
     "data": {
      "text/plain": [
       "['Path1: สร้างแผนการเรียนรู้ที่มีโครงสร้างและเป้าหมายชัดเจน โดยแบ่งส่วนของฟิสิกส์ที่ต้องการเรียนรู้ออกเป็นส่วนย่อยๆ และกำหนดเวลาที่จะใช้ในการเรียนรู้แต่ละส่วน',\n",
       " 'Path2: ใช้วิธีการจำแบบ \"Chunking\" หรือการจัดกลุ่มข้อมูล เพื่อช่วยให้จำสูตรฟิสิกส์ได้ง่ายขึ้น',\n",
       " 'Path3: ใช้เทคนิคการจำแบบ \"Mnemonic device\" หรือการใช้สัญลักษณ์หรือคำที่เกี่ยวข้องเพื่อช่วยจำสูตรฟิสิกส์',\n",
       " 'Path4: ศึกษาจากแหล่งข้อมูลที่หลากหลาย เช่น หนังสือ, วิดีโอ, และเว็บไซต์ เพื่อให้ได้มุมมองที่หลากหลายและเข้าใจมากขึ้น']"
      ]
     },
     "execution_count": 7,
     "metadata": {},
     "output_type": "execute_result"
    }
   ],
   "source": [
    "import re \n",
    "\n",
    "text = \"\"\"Path1: สร้างแผนการเรียนรู้ที่มีโครงสร้างและเป้าหมายชัดเจน โดยแบ่งส่วนของฟิสิกส์ที่ต้องการเรียนรู้ออกเป็นส่วนย่อยๆ และกำหนดเวลาที่จะใช้ในการเรียนรู้แต่ละส่วนPath2: ใช้วิธีการจำแบบ \"Chunking\" หรือการจัดกลุ่มข้อมูล เพื่อช่วยให้จำสูตรฟิสิกส์ได้ง่ายขึ้นPath3: ใช้เทคนิคการจำแบบ \"Mnemonic device\" หรือการใช้สัญลักษณ์หรือคำที่เกี่ยวข้องเพื่อช่วยจำสูตรฟิสิกส์Path4: ศึกษาจากแหล่งข้อมูลที่หลากหลาย เช่น หนังสือ, วิดีโอ, และเว็บไซต์ เพื่อให้ได้มุมมองที่หลากหลายและเข้าใจมากขึ้น\"\"\"\n",
    "\n",
    "\n",
    "paths = re.split(r'(Path\\d+:)', text)\n",
    "\n",
    "# Combine the split into individual paths\n",
    "formatted_paths = [paths[i] + paths[i+1] for i in range(1, len(paths), 2)]\n",
    "formatted_paths"
   ]
  },
  {
   "cell_type": "code",
   "execution_count": 12,
   "metadata": {},
   "outputs": [
    {
     "ename": "ValueError",
     "evalue": "Invalid format specifier ' 'q1',\n                        'Choice2' : 'q1',\n                        'Choice3' : 'q1',\n                        'Choice4' : 'q1'\n                    ' for object of type 'str'",
     "output_type": "error",
     "traceback": [
      "\u001b[1;31m---------------------------------------------------------------------------\u001b[0m",
      "\u001b[1;31mValueError\u001b[0m                                Traceback (most recent call last)",
      "Cell \u001b[1;32mIn[12], line 3\u001b[0m\n\u001b[0;32m      1\u001b[0m \u001b[38;5;66;03m#generate 10 question \u001b[39;00m\n\u001b[0;32m      2\u001b[0m Topic \u001b[38;5;241m=\u001b[39m \u001b[38;5;124m\"\u001b[39m\u001b[38;5;124mcreate 10 qestion about chemistry\u001b[39m\u001b[38;5;124m\"\u001b[39m\n\u001b[1;32m----> 3\u001b[0m Prompt \u001b[38;5;241m=\u001b[39m \u001b[38;5;124mf\u001b[39m\u001b[38;5;124m\"\"\"\u001b[39m\u001b[38;5;124myou are chem teacher who create exam for secondary student \u001b[39m\u001b[38;5;132;01m{\u001b[39;00mTopic\u001b[38;5;132;01m}\u001b[39;00m\u001b[38;5;124m. So Create a guideline what should he learning for \u001b[39m\u001b[38;5;132;01m{\u001b[39;00mTopic\u001b[38;5;132;01m}\u001b[39;00m\u001b[38;5;124m so create chemistry quiz about org chem for secondary student\u001b[39m\n\u001b[0;32m      4\u001b[0m \u001b[38;5;124mwrite the Answer in the Json format and English Language \u001b[39m\n\u001b[0;32m      5\u001b[0m \n\u001b[0;32m      6\u001b[0m \u001b[38;5;124m'\u001b[39m\u001b[38;5;124mQuestion1\u001b[39m\u001b[38;5;124m'\u001b[39m\u001b[38;5;124m : \u001b[39m\u001b[38;5;132;01m{\u001b[39;00m\u001b[38;5;124m'\u001b[39m\u001b[38;5;124mQuestion\u001b[39m\u001b[38;5;124m'\u001b[39m\u001b[38;5;250m \u001b[39m\u001b[38;5;132;01m:\u001b[39;00m\u001b[38;5;124m'\u001b[39m\u001b[38;5;124mq1\u001b[39m\u001b[38;5;124m'\u001b[39m\u001b[38;5;124m,\u001b[39m\n\u001b[0;32m      7\u001b[0m \u001b[38;5;124m                    \u001b[39m\u001b[38;5;124m'\u001b[39m\u001b[38;5;124mChoice\u001b[39m\u001b[38;5;124m'\u001b[39m\u001b[38;5;124m : \u001b[39m\u001b[38;5;132;01m{\u001b[39;00m\n\u001b[0;32m      8\u001b[0m \u001b[38;5;250m                        \u001b[39m\u001b[38;5;124m'\u001b[39m\u001b[38;5;124mChoice1\u001b[39m\u001b[38;5;124m'\u001b[39m\u001b[38;5;250m \u001b[39m\u001b[38;5;132;01m:\u001b[39;00m\u001b[38;5;124m \u001b[39m\u001b[38;5;124m'\u001b[39m\u001b[38;5;124mq1\u001b[39m\u001b[38;5;124m'\u001b[39m\u001b[38;5;124m,\u001b[39m\n\u001b[0;32m      9\u001b[0m \u001b[38;5;124m                        \u001b[39m\u001b[38;5;124m'\u001b[39m\u001b[38;5;124mChoice2\u001b[39m\u001b[38;5;124m'\u001b[39m\u001b[38;5;124m : \u001b[39m\u001b[38;5;124m'\u001b[39m\u001b[38;5;124mq1\u001b[39m\u001b[38;5;124m'\u001b[39m\u001b[38;5;124m,\u001b[39m\n\u001b[0;32m     10\u001b[0m \u001b[38;5;124m                        \u001b[39m\u001b[38;5;124m'\u001b[39m\u001b[38;5;124mChoice3\u001b[39m\u001b[38;5;124m'\u001b[39m\u001b[38;5;124m : \u001b[39m\u001b[38;5;124m'\u001b[39m\u001b[38;5;124mq1\u001b[39m\u001b[38;5;124m'\u001b[39m\u001b[38;5;124m,\u001b[39m\n\u001b[0;32m     11\u001b[0m \u001b[38;5;124m                        \u001b[39m\u001b[38;5;124m'\u001b[39m\u001b[38;5;124mChoice4\u001b[39m\u001b[38;5;124m'\u001b[39m\u001b[38;5;124m : \u001b[39m\u001b[38;5;124m'\u001b[39m\u001b[38;5;124mq1\u001b[39m\u001b[38;5;124m'\u001b[39m\n\u001b[0;32m     12\u001b[0m \u001b[38;5;124m                    \u001b[39m\u001b[38;5;130;01m}}\u001b[39;00m\u001b[38;5;124m,\u001b[39m\n\u001b[0;32m     13\u001b[0m \u001b[38;5;124m                    \u001b[39m\n\u001b[0;32m     14\u001b[0m \u001b[38;5;124m'\u001b[39m\u001b[38;5;124mQuestion2\u001b[39m\u001b[38;5;124m'\u001b[39m\u001b[38;5;124m : \u001b[39m\u001b[38;5;132;01m{\u001b[39;00m\u001b[38;5;124m'\u001b[39m\u001b[38;5;124mQuestion\u001b[39m\u001b[38;5;124m'\u001b[39m\u001b[38;5;250m \u001b[39m\u001b[38;5;132;01m:\u001b[39;00m\u001b[38;5;124m'\u001b[39m\u001b[38;5;124mq2\u001b[39m\u001b[38;5;124m'\u001b[39m\u001b[38;5;124m,\u001b[39m\n\u001b[0;32m     15\u001b[0m \u001b[38;5;124m                    \u001b[39m\u001b[38;5;124m'\u001b[39m\u001b[38;5;124mChoice\u001b[39m\u001b[38;5;124m'\u001b[39m\u001b[38;5;124m : \u001b[39m\u001b[38;5;132;01m{\u001b[39;00m\n\u001b[0;32m     16\u001b[0m \u001b[38;5;250m                        \u001b[39m\u001b[38;5;124m'\u001b[39m\u001b[38;5;124mChoice1\u001b[39m\u001b[38;5;124m'\u001b[39m\u001b[38;5;250m \u001b[39m\u001b[38;5;132;01m:\u001b[39;00m\u001b[38;5;124m \u001b[39m\u001b[38;5;124m'\u001b[39m\u001b[38;5;124mq2\u001b[39m\u001b[38;5;124m'\u001b[39m\u001b[38;5;124m,\u001b[39m\n\u001b[0;32m     17\u001b[0m \u001b[38;5;124m                        \u001b[39m\u001b[38;5;124m'\u001b[39m\u001b[38;5;124mChoice2\u001b[39m\u001b[38;5;124m'\u001b[39m\u001b[38;5;124m : \u001b[39m\u001b[38;5;124m'\u001b[39m\u001b[38;5;124mq2\u001b[39m\u001b[38;5;124m'\u001b[39m\u001b[38;5;124m,\u001b[39m\n\u001b[0;32m     18\u001b[0m \u001b[38;5;124m                        \u001b[39m\u001b[38;5;124m'\u001b[39m\u001b[38;5;124mChoice3\u001b[39m\u001b[38;5;124m'\u001b[39m\u001b[38;5;124m : \u001b[39m\u001b[38;5;124m'\u001b[39m\u001b[38;5;124mq2\u001b[39m\u001b[38;5;124m'\u001b[39m\u001b[38;5;124m,\u001b[39m\n\u001b[0;32m     19\u001b[0m \u001b[38;5;124m                        \u001b[39m\u001b[38;5;124m'\u001b[39m\u001b[38;5;124mChoice4\u001b[39m\u001b[38;5;124m'\u001b[39m\u001b[38;5;124m : \u001b[39m\u001b[38;5;124m'\u001b[39m\u001b[38;5;124mq2\u001b[39m\u001b[38;5;124m'\u001b[39m\n\u001b[0;32m     20\u001b[0m \u001b[38;5;124m                    \u001b[39m\u001b[38;5;130;01m}}\u001b[39;00m\n\u001b[0;32m     21\u001b[0m \u001b[38;5;124m\"\"\"\u001b[39m\n\u001b[0;32m     22\u001b[0m \u001b[38;5;28mprint\u001b[39m(Prompt)\n",
      "\u001b[1;31mValueError\u001b[0m: Invalid format specifier ' 'q1',\n                        'Choice2' : 'q1',\n                        'Choice3' : 'q1',\n                        'Choice4' : 'q1'\n                    ' for object of type 'str'"
     ]
    }
   ],
   "source": [
    "Topic = \"create 10 questions about chemistry\"\n",
    "Prompt = f\"\"\"\n",
    "You are a chemistry teacher who is creating an exam for secondary students. The topic is \"{Topic}\". Create a guideline for what they should be learning, and then create a chemistry quiz about organic chemistry for secondary students. \n",
    "Write the answers in JSON format and in English.\n",
    "\n",
    "\"Question1\": {{\n",
    "    \"Question\": \"What is the general formula for alkanes?\",\n",
    "    \"Choice\": {{\n",
    "        \"Choice1\": \"CnH2n+2\",\n",
    "        \"Choice2\": \"CnH2n\",\n",
    "        \"Choice3\": \"CnH2n-2\",\n",
    "        \"Choice4\": \"CnH2n+1\"\n",
    "    }},\n",
    "    \"Answer\": \"Choice1\"\n",
    "}},\n",
    "                    \n",
    "\"Question2\": {{\n",
    "    \"Question\": \"Which functional group is present in alcohols?\",\n",
    "    \"Choice\": {{\n",
    "        \"Choice1\": \"-COOH\",\n",
    "        \"Choice2\": \"-OH\",\n",
    "        \"Choice3\": \"-NH2\",\n",
    "        \"Choice4\": \"-SH\"\n",
    "    }},\n",
    "    \"Answer\": \"Choice2\"\n",
    "}},\n",
    "\"\"\"\n",
    "print(Prompt)\n"
   ]
  }
 ],
 "metadata": {
  "kernelspec": {
   "display_name": "Python 3",
   "language": "python",
   "name": "python3"
  },
  "language_info": {
   "codemirror_mode": {
    "name": "ipython",
    "version": 3
   },
   "file_extension": ".py",
   "mimetype": "text/x-python",
   "name": "python",
   "nbconvert_exporter": "python",
   "pygments_lexer": "ipython3",
   "version": "3.11.0"
  }
 },
 "nbformat": 4,
 "nbformat_minor": 2
}
