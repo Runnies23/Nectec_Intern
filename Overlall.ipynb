{
 "cells": [
  {
   "cell_type": "code",
   "execution_count": 1,
   "metadata": {},
   "outputs": [],
   "source": [
    "from Prompt import *\n",
    "import json"
   ]
  },
  {
   "cell_type": "code",
   "execution_count": 2,
   "metadata": {},
   "outputs": [],
   "source": [
    "Learning_goal = input()\n",
    "Time = input()\n",
    "Topic = \"python\""
   ]
  },
  {
   "cell_type": "markdown",
   "metadata": {},
   "source": [
    "#### Init "
   ]
  },
  {
   "cell_type": "code",
   "execution_count": 3,
   "metadata": {},
   "outputs": [],
   "source": [
    "Response = []"
   ]
  },
  {
   "cell_type": "markdown",
   "metadata": {},
   "source": [
    "## Task 1 Required"
   ]
  },
  {
   "cell_type": "code",
   "execution_count": 4,
   "metadata": {},
   "outputs": [
    {
     "name": "stdout",
     "output_type": "stream",
     "text": [
      "Because Learning Python within 1 month is a challenging task due to its extensive libraries, frameworks, and applications. It requires consistent practice and dedication to grasp the fundamentals and gain practical experience.\n",
      "1 : Extend Learning Period\n",
      "\t- Consider extending your learning period to 3-6 months. This will allow you to take your time understanding the concepts, practicing coding, and working on projects.\n",
      "2 : Focus on Specific Area\n",
      "\t- Instead of trying to learn all aspects of Python within a short period, focus on a specific area such as web development, data analysis, or machine learning. This will enable you to gain a deeper understanding of that particular domain.\n",
      "3 : Enroll in a Course or Bootcamp\n",
      "\t- Join an online course or bootcamp that offers structured lessons and assignments. This will help you stay on track, receive feedback from instructors, and accelerate your learning process.\n",
      "4 : Find a Mentor or Study Group\n",
      "\t- Connect with experienced Python developers or join a study group. This will provide you with guidance, support, and motivation to overcome challenges and improve your skills more quickly.\n"
     ]
    }
   ],
   "source": [
    "Task_1_Required_response = QueryTyphoon_70b(Task_1_Required(Learning_goal,Time))\n",
    "Task_1_Required_response_Json = json.loads(Task_1_Required_response)\n",
    "del Task_1_Required_response\n",
    "\n",
    "if Task_1_Required_response_Json['Decision'] ==  \"Not Achievable\":\n",
    "    print(f\"\"\"Because {Task_1_Required_response_Json['Reason']}\"\"\")\n",
    "    for index,i in enumerate(Task_1_Required_response_Json['Choice_Path']):\n",
    "        print(f\"{index+1} : {i['PATH']}\\n\\t- {i['Detail']}\")\n",
    "else:\n",
    "    print(Task_1_Required_response_Json['Decision'])\n"
   ]
  },
  {
   "cell_type": "markdown",
   "metadata": {},
   "source": [
    "## Task 2 Measure Knowledge"
   ]
  },
  {
   "cell_type": "markdown",
   "metadata": {},
   "source": [
    "#### First question"
   ]
  },
  {
   "cell_type": "code",
   "execution_count": 5,
   "metadata": {},
   "outputs": [
    {
     "name": "stdout",
     "output_type": "stream",
     "text": [
      "\t- ControlFlow\n",
      "\t- Decorators and ContextManagers\n",
      "\t- Dictionaries\n",
      "\t- ErrorHandling\n",
      "\t- Functions\n",
      "\t- Imports\n",
      "\t- Input and Output\n",
      "\t- Iterators\n",
      "\t- List\n",
      "\t- Loops\n",
      "\t- Object-Oriented Programming (OOP)\n",
      "\t- Set\n",
      "\t- Tuple\n",
      "\t- Variables_and_DataTypes\n"
     ]
    }
   ],
   "source": [
    "topic_list_query = QueryTyphoon_70b(Prompt=topic_list_prompt(Topic),token=2024)\n",
    "topic_list_json = json.loads(topic_list_query)\n",
    "topic_list = [i['Topic'] for i in topic_list_json]\n",
    "Topic_list_text = []\n",
    "for i in topic_list:\n",
    "    Topic_list_text.append(f\"\\t- {i}\")\n",
    "Topic_list_text_ = '\\n'.join(Topic_list_text)\n",
    "print(Topic_list_text_)"
   ]
  },
  {
   "cell_type": "code",
   "execution_count": 6,
   "metadata": {},
   "outputs": [
    {
     "name": "stdout",
     "output_type": "stream",
     "text": [
      "Question : การทำงานของ loop for ใน Python คืออะไร\n",
      "\n",
      "1. วนซ้ำคำสั่งหลายครั้งโดยใช้ค่า index\n",
      "2. วนซ้ำคำสั่งหลายครั้งโดยไม่ใช้ค่า index\n",
      "3. วนซ้ำคำสั่งเพียงครั้งเดียว\n",
      "4. ไม่สามารถวนซ้ำคำสั่งได้\n",
      "\n",
      "[1, 0.75, 0, 0]\n"
     ]
    }
   ],
   "source": [
    "Task2_First_question_Query = QueryTyphoon_70b(Task2_First_question_prompt(Topic))\n",
    "Task2_First_question_Json = json.loads(Task2_First_question_Query)\n",
    "print(f\"Question : {Task2_First_question_Json['Question']}\\n\")\n",
    "for index, i in enumerate(Task2_First_question_Json['Choices']):\n",
    "    print(f\"\"\"{index+1}. {i['text']}\"\"\")\n",
    "\n",
    "weight = [i['weight'] for i in Task2_First_question_Json['Choices']]\n",
    "print(f'\\n{weight}')\n",
    "\n",
    "decision = int(input(\"Enter Choice : \")) -1 \n",
    "Response.append({\n",
    "    \"Question\" : Task2_First_question_Json['Question'],\n",
    "    \"Topic\" : f\"Overview of {Topic}\",\n",
    "    \"Level\" : \"Medium\",\n",
    "    \"Answer\" : (Task2_First_question_Json['Choices'][decision]['weight'], Task2_First_question_Json['Choices'][decision]['text']),\n",
    "    \"Best Answer\" : (weight[weight.index(max(weight))], Task2_First_question_Json['Choices'][weight.index(max(weight))]['text']),\n",
    "    \"Chain_of_Thought\" : None\n",
    "})"
   ]
  },
  {
   "cell_type": "markdown",
   "metadata": {},
   "source": [
    "#### Loop Question"
   ]
  },
  {
   "cell_type": "code",
   "execution_count": 7,
   "metadata": {},
   "outputs": [
    {
     "name": "stdout",
     "output_type": "stream",
     "text": [
      "2\n",
      "Question : การทำงานของฟังก์ชัน lambda ใน Python คืออะไร?\n",
      "\n",
      "1. เป็นการสร้างฟังก์ชันที่ไม่มีชื่อ\n",
      "2. เป็นการสร้างฟังก์ชันที่มีชื่อ\n",
      "3. เป็นการสร้างคลาส\n",
      "4. เป็นการสร้างโมดูล\n",
      "\n",
      "[1, 0, 0, 0]\n",
      "3\n",
      "Question : การทำงานของฟังก์ชัน map ใน Python คืออะไร?\n",
      "\n",
      "1. ใช้สำหรับการวนซ้ำคำสั่งหลายครั้ง\n",
      "2. ใช้สำหรับการแปลงข้อมูลจากหนึ่งรูปแบบไปอีกรูปแบบ\n",
      "3. ใช้สำหรับการค้นหาข้อมูลใน list\n",
      "4. ใช้สำหรับการสร้าง object ใหม่\n",
      "\n",
      "[0, 1, 0.5, 0]\n",
      "4\n",
      "Question : การใช้งานของ keyword 'pass' ใน Python คืออะไร?\n",
      "\n",
      "1. ใช้สำหรับการสร้างฟังก์ชันที่ไม่มีการทำงานใดๆ\n",
      "2. ใช้สำหรับการสร้าง loop ที่ไม่มีการทำงานใดๆ\n",
      "3. ใช้สำหรับการสร้าง class ที่ไม่มีการทำงานใดๆ\n",
      "4. ไม่ใช้ใน Python\n",
      "\n",
      "[1, 0.5, 0.25, 0]\n",
      "5\n",
      "Question : การทำงานของ keyword 'try' และ 'except' ใน Python คืออะไร?\n",
      "\n",
      "1. ใช้สำหรับการจัดการข้อผิดพลาด\n",
      "2. ใช้สำหรับการสร้างฟังก์ชัน\n",
      "3. ใช้สำหรับการวนซ้ำคำสั่ง\n",
      "4. ใช้สำหรับการแปลงข้อมูล\n",
      "\n",
      "[1, 0.25, 0, 0]\n",
      "6\n",
      "Question : การทำงานของ keyword 'raise' ใน Python คืออะไร?\n",
      "\n",
      "1. ใช้สำหรับการสร้างข้อผิดพลาด\n",
      "2. ใช้สำหรับการจัดการข้อผิดพลาด\n",
      "3. ใช้สำหรับการสร้างฟังก์ชันที่ไม่มีการทำงานใดๆ\n",
      "4. ใช้สำหรับการแปลงข้อมูลจากหนึ่งรูปแบบไปอีกรูปแบบ\n",
      "\n",
      "[1, 0.5, 0, 0]\n",
      "7\n",
      "Question : การทำงานของ keyword 'break' ใน Python คืออะไร?\n",
      "\n",
      "1. ใช้สำหรับการออกจาก loop\n",
      "2. ใช้สำหรับการกระโดดไปยังคำสั่งต่อไป\n",
      "3. ใช้สำหรับการเรียกฟังก์ชัน\n",
      "4. ไม่ใช้ในการเขียนโปรแกรม Python\n",
      "\n",
      "[1, 0.5, 0, 0]\n",
      "8\n",
      "Question : การทำงานของ keyword 'continue' ใน Python คืออะไร?\n",
      "\n",
      "1. ใช้สำหรับการออกจาก loop\n",
      "2. ใช้สำหรับการข้ามคำสั่งใน loop และไปยังคำสั่งต่อไป\n",
      "3. ใช้สำหรับการหยุดการทำงานของโปรแกรม\n",
      "4. ไม่ใช้ในการทำงานของ loop\n",
      "\n",
      "[0, 1, 0, 0]\n",
      "9\n",
      "Question : การใช้งานของ keyword 'global' ใน Python คืออะไร?\n",
      "\n",
      "1. ใช้สำหรับการประกาศตัวแปรท้องถิ่น\n",
      "2. ใช้สำหรับการเข้าถึงตัวแปรทั่วโลก\n",
      "3. ใช้สำหรับการสร้างฟังก์ชัน\n",
      "4. ใช้สำหรับการจัดการข้อผิดพลาด\n",
      "\n",
      "[0, 1, 0, 0]\n",
      "10\n",
      "Question : การทำงานของ keyword 'nonlocal' ใน Python คืออะไร?\n",
      "\n",
      "1. ใช้สำหรับการเข้าถึงตัวแปรทั่วโลก\n",
      "2. ใช้สำหรับการเข้าถึงตัวแปรในฟังก์ชันที่อยู่ภายใน\n",
      "3. ใช้สำหรับการสร้างตัวแปรใหม่\n",
      "4. ใช้สำหรับการลบตัวแปร\n",
      "\n",
      "[0, 1, 0, 0]\n"
     ]
    }
   ],
   "source": [
    "\n",
    "while len(Response) < 10:\n",
    "    print(len(Response) + 1)\n",
    "    Task2_Loop_question_Query = QueryTyphoon_70b(Task2_Loop_question_prompt(topic_list,Previous_Question_Text(Response)))\n",
    "    Task2_Loop_question_Json = json.loads(Task2_Loop_question_Query)\n",
    "    print(f\"Question : {Task2_Loop_question_Json['Question']}\\n\")\n",
    "    for index, i in enumerate(Task2_Loop_question_Json['Choices']):\n",
    "        print(f\"\"\"{index+1}. {i['text']}\"\"\")\n",
    "\n",
    "    #================================================\n",
    "    weight = [i['weight'] for i in Task2_Loop_question_Json['Choices']]\n",
    "    print(f'\\n{weight}')\n",
    "    #================================================\n",
    "\n",
    "    decision = int(input(\"Enter Choice : \")) -1 \n",
    "    Response.append({\n",
    "        \"Question\" : Task2_Loop_question_Json['Question'],\n",
    "        \"Topic\" : f\"{Task2_Loop_question_Json['Topic']}\",\n",
    "        \"Level\" : f\"{Task2_Loop_question_Json['Level']}\",\n",
    "        \"Answer\" : (Task2_Loop_question_Json['Choices'][decision]['weight'], Task2_Loop_question_Json['Choices'][decision]['text']),\n",
    "        \"Best Answer\" : (weight[weight.index(max(weight))], Task2_Loop_question_Json['Choices'][weight.index(max(weight))]['text']),\n",
    "        \"Chain_of_Thought\" :  Task2_Loop_question_Json['Chain_of_Thought']\n",
    "    })"
   ]
  },
  {
   "cell_type": "code",
   "execution_count": 8,
   "metadata": {},
   "outputs": [],
   "source": [
    "Task2_Level_measure_Query = QueryTyphoon_70b(Task2_Measure_prompt(Previous_Question_Text(Response)))\n",
    "Task2_Level_measure_Json = json.loads(Task2_Level_measure_Query)"
   ]
  },
  {
   "cell_type": "code",
   "execution_count": 9,
   "metadata": {},
   "outputs": [
    {
     "data": {
      "text/plain": [
       "[{'Topic': 'ControlFlow',\n",
       "  'Knowledge_Level': 'Intermediate',\n",
       "  'Chain_of_Thought': \"The student has shown a good understanding of control flow concepts such as 'pass', 'break', and 'continue'. However, there is limited data to assess their knowledge of other control flow constructs like 'if-else' statements.\"},\n",
       " {'Topic': 'Decorators and ContextManagers',\n",
       "  'Knowledge_Level': 'Beginner2',\n",
       "  'Chain_of_Thought': \"There is insufficient data to accurately assess the student's knowledge in this topic, as no questions were asked about decorators and context managers.\"},\n",
       " {'Topic': 'Dictionaries',\n",
       "  'Knowledge_Level': 'Beginner2',\n",
       "  'Chain_of_Thought': \"No questions were asked about dictionaries, making it difficult to determine the student's knowledge level in this topic.\"},\n",
       " {'Topic': 'ErrorHandling',\n",
       "  'Knowledge_Level': 'Intermediate',\n",
       "  'Chain_of_Thought': \"The student demonstrated a good understanding of error handling concepts such as 'try' and 'except', and 'raise'. However, there may be other aspects of error handling that the student is unfamiliar with.\"},\n",
       " {'Topic': 'Functions',\n",
       "  'Knowledge_Level': 'Intermediate',\n",
       "  'Chain_of_Thought': \"The student showed a solid understanding of function-related concepts like 'lambda' and'map'. However, there might be other function concepts that the student is not familiar with.\"},\n",
       " {'Topic': 'Imports',\n",
       "  'Knowledge_Level': 'Beginner2',\n",
       "  'Chain_of_Thought': \"No questions were asked about imports, making it challenging to assess the student's knowledge in this area.\"},\n",
       " {'Topic': 'Input and Output',\n",
       "  'Knowledge_Level': 'Beginner2',\n",
       "  'Chain_of_Thought': \"There is insufficient data to evaluate the student's knowledge of input and output, as no questions were asked about this topic.\"},\n",
       " {'Topic': 'Iterators',\n",
       "  'Knowledge_Level': 'Beginner2',\n",
       "  'Chain_of_Thought': \"No questions were asked about iterators, making it difficult to determine the student's knowledge level in this topic.\"},\n",
       " {'Topic': 'List',\n",
       "  'Knowledge_Level': 'Beginner2',\n",
       "  'Chain_of_Thought': \"There is insufficient data to assess the student's knowledge of lists, as no questions were asked about this topic.\"},\n",
       " {'Topic': 'Loops',\n",
       "  'Knowledge_Level': 'Intermediate',\n",
       "  'Chain_of_Thought': \"The student demonstrated a good understanding of loops through their answers on 'for' loops. However, there may be other loop constructs that the student is unfamiliar with.\"},\n",
       " {'Topic': 'Object-Oriented Programming (OOP)',\n",
       "  'Knowledge_Level': 'Beginner2',\n",
       "  'Chain_of_Thought': \"No questions were asked about OOP, making it challenging to assess the student's knowledge in this area.\"},\n",
       " {'Topic': 'Set',\n",
       "  'Knowledge_Level': 'Beginner2',\n",
       "  'Chain_of_Thought': \"There is insufficient data to evaluate the student's knowledge of sets, as no questions were asked about this topic.\"},\n",
       " {'Topic': 'Tuple',\n",
       "  'Knowledge_Level': 'Beginner2',\n",
       "  'Chain_of_Thought': \"No questions were asked about tuples, making it difficult to determine the student's knowledge level in this topic.\"},\n",
       " {'Topic': 'Variables_and_DataTypes',\n",
       "  'Knowledge_Level': 'Intermediate',\n",
       "  'Chain_of_Thought': \"The student showed a good understanding of variable-related concepts like 'global' and 'nonlocal'. However, there might be other variable and data type concepts that the student is not familiar with.\"}]"
      ]
     },
     "execution_count": 9,
     "metadata": {},
     "output_type": "execute_result"
    }
   ],
   "source": [
    "Task2_final_each_level_Query = QueryTyphoon_70b(Task2_3_eachtopic(Topic,Topic_list_text_,Task2_Level_measure_Json[\"Level\"],Previous_Question_Text(Response)),token=2048)\n",
    "Task2_final_each_level_Json = json.loads(Task2_final_each_level_Query)\n",
    "Task2_final_each_level_Json"
   ]
  },
  {
   "cell_type": "code",
   "execution_count": 10,
   "metadata": {},
   "outputs": [
    {
     "name": "stdout",
     "output_type": "stream",
     "text": [
      "Student Level : Intermediate\n"
     ]
    }
   ],
   "source": [
    "Task2_final_each_level = []\n",
    "print(f\"Student Level : {Task2_Level_measure_Json['Level']}\")\n",
    "for i in Task2_final_each_level_Json:\n",
    "    Task2_final_each_level.append(f\"- {i['Topic']} : {i['Knowledge_Level']}\")"
   ]
  },
  {
   "cell_type": "code",
   "execution_count": 11,
   "metadata": {},
   "outputs": [
    {
     "name": "stdout",
     "output_type": "stream",
     "text": [
      "- ControlFlow : Intermediate\n",
      "\t- Decorators and ContextManagers : Beginner2\n",
      "\t- Dictionaries : Beginner2\n",
      "\t- ErrorHandling : Intermediate\n",
      "\t- Functions : Intermediate\n",
      "\t- Imports : Beginner2\n",
      "\t- Input and Output : Beginner2\n",
      "\t- Iterators : Beginner2\n",
      "\t- List : Beginner2\n",
      "\t- Loops : Intermediate\n",
      "\t- Object-Oriented Programming (OOP) : Beginner2\n",
      "\t- Set : Beginner2\n",
      "\t- Tuple : Beginner2\n",
      "\t- Variables_and_DataTypes : Intermediate\n"
     ]
    }
   ],
   "source": [
    "Task2_final_each_level_Text = '\\n\\t'.join(Task2_final_each_level)\n",
    "print(Task2_final_each_level_Text)"
   ]
  },
  {
   "cell_type": "markdown",
   "metadata": {},
   "source": [
    "## Task 3 Create Learning Path"
   ]
  },
  {
   "cell_type": "code",
   "execution_count": 12,
   "metadata": {},
   "outputs": [
    {
     "name": "stdout",
     "output_type": "stream",
     "text": [
      "[{'Study_Time': 'Day 1', 'Topics': ['Variables_and_DataTypes', 'ErrorHandling'], 'Focus': 'Review', 'Reasoning': 'Intermediate knowledge level, periodic review to retain information'}, {'Study_Time': 'Day 2', 'Topics': ['List', 'Tuple', 'Set'], 'Focus': 'Learn', 'Reasoning': 'Beginner2 knowledge level, in-depth learning and practice'}, {'Study_Time': 'Day 3', 'Topics': ['Dictionaries', 'Iterators'], 'Focus': 'Learn', 'Reasoning': 'Beginner2 knowledge level, in-depth learning and practice'}, {'Study_Time': 'Day 4', 'Topics': ['Loops', 'ControlFlow'], 'Focus': 'Review', 'Reasoning': 'Intermediate knowledge level, periodic review to retain information'}, {'Study_Time': 'Day 5', 'Topics': ['Functions', 'Imports'], 'Focus': 'Review', 'Reasoning': 'Intermediate knowledge level, periodic review to retain information'}, {'Study_Time': 'Day 6', 'Topics': ['Input and Output', 'OOP'], 'Focus': 'Learn', 'Reasoning': 'Beginner2 knowledge level, in-depth learning and practice'}, {'Study_Time': 'Day 7', 'Topics': ['Decorators and ContextManagers'], 'Focus': 'Learn', 'Reasoning': 'Beginner2 knowledge level, in-depth learning and practice'}, {'Study_Time': 'Day 8', 'Topics': ['Variables_and_DataTypes', 'ErrorHandling', 'Loops'], 'Focus': 'Review', 'Reasoning': 'Combined review of related intermediate topics'}, {'Study_Time': 'Day 9', 'Topics': ['List', 'Tuple', 'Set', 'Dictionaries'], 'Focus': 'Review', 'Reasoning': 'Combined review of related beginner2 topics'}, {'Study_Time': 'Day 10', 'Topics': ['Iterators', 'Imports', 'Input and Output'], 'Focus': 'Review', 'Reasoning': 'Combined review of related beginner2 topics'}, {'Study_Time': 'Day 11', 'Topics': ['Functions', 'OOP', 'Decorators and ContextManagers'], 'Focus': 'Review', 'Reasoning': 'Combined review of related beginner2 and intermediate topics'}, {'Study_Time': 'Day 12', 'Topics': ['ControlFlow', 'ErrorHandling'], 'Focus': 'Review', 'Reasoning': 'Periodic review to retain information'}, {'Study_Time': 'Day 13', 'Topics': ['List', 'Tuple', 'Set'], 'Focus': 'Review', 'Reasoning': 'Periodic review to retain information'}, {'Study_Time': 'Day 14', 'Topics': ['Dictionaries', 'Iterators'], 'Focus': 'Review', 'Reasoning': 'Periodic review to retain information'}, {'Study_Time': 'Day 15', 'Topics': ['Loops', 'ControlFlow'], 'Focus': 'Review', 'Reasoning': 'Periodic review to retain information'}, {'Study_Time': 'Day 16', 'Topics': ['Functions', 'Imports'], 'Focus': 'Review', 'Reasoning': 'Periodic review to retain information'}, {'Study_Time': 'Day 17', 'Topics': ['Input and Output', 'OOP'], 'Focus': 'Review', 'Reasoning': 'Periodic review to retain information'}, {'Study_Time': 'Day 18', 'Topics': ['Decorators and ContextManagers'], 'Focus': 'Review', 'Reasoning': 'Periodic review to retain information'}, {'Study_Time': 'Day 19', 'Topics': ['Variables_and_DataTypes', 'ErrorHandling', 'Loops'], 'Focus': 'Review', 'Reasoning': 'Combined review of related intermediate topics'}, {'Study_Time': 'Day 20', 'Topics': ['List', 'Tuple', 'Set', 'Dictionaries'], 'Focus': 'Review', 'Reasoning': 'Combined review of related beginner2 topics'}, {'Study_Time': 'Day 21', 'Topics': ['Iterators', 'Imports', 'Input and Output'], 'Focus': 'Review', 'Reasoning': 'Combined review of related beginner2 topics'}, {'Study_Time': 'Day 22', 'Topics': ['Functions', 'OOP', 'Decorators and ContextManagers'], 'Focus': 'Review', 'Reasoning': 'Combined review of related beginner2 and intermediate topics'}, {'Study_Time': 'Day 23', 'Topics': ['ControlFlow', 'ErrorHandling'], 'Focus': 'Review', 'Reasoning': 'Periodic review to retain information'}, {'Study_Time': 'Day 24', 'Topics': ['List', 'Tuple', 'Set'], 'Focus': 'Review', 'Reasoning': 'Periodic review to retain information'}, {'Study_Time': 'Day 25', 'Topics': ['Dictionaries', 'Iterators'], 'Focus': 'Review', 'Reasoning': 'Periodic review to retain information'}, {'Study_Time': 'Day 26', 'Topics': ['Loops', 'ControlFlow'], 'Focus': 'Review', 'Reasoning': 'Periodic review to retain information'}, {'Study_Time': 'Day 27', 'Topics': ['Functions', 'Imports'], 'Focus': 'Review', 'Reasoning': 'Periodic review to retain information'}, {'Study_Time': 'Day 28', 'Topics': ['Input and Output', 'OOP'], 'Focus': 'Review', 'Reasoning': 'Periodic review to retain information'}, {'Study_Time': 'Day 29', 'Topics': ['Decorators and ContextManagers'], 'Focus': 'Review', 'Reasoning': 'Periodic review to retain information'}, {'Study_Time': 'Day 30', 'Topics': ['Variables_and_DataTypes', 'ErrorHandling', 'Loops'], 'Focus': 'Review', 'Reasoning': 'Final combined review of related intermediate topics'}]\n"
     ]
    }
   ],
   "source": [
    "Task3_Query = QueryTyphoon_70b(Task3_Prompt(Time,Task2_final_each_level_Text,Task2_Level_measure_Json['Level']),token=2048)\n",
    "Task3_Json = json.loads(Task3_Query)\n",
    "Task3_Json"
   ]
  },
  {
   "cell_type": "code",
   "execution_count": 15,
   "metadata": {},
   "outputs": [
    {
     "name": "stdout",
     "output_type": "stream",
     "text": [
      "{'Study_Time': 'Day 1', 'Topics': ['Variables_and_DataTypes', 'ErrorHandling'], 'Focus': 'Review', 'Reasoning': 'Intermediate knowledge level, periodic review to retain information'}\n",
      "{'Study_Time': 'Day 2', 'Topics': ['List', 'Tuple', 'Set'], 'Focus': 'Learn', 'Reasoning': 'Beginner2 knowledge level, in-depth learning and practice'}\n",
      "{'Study_Time': 'Day 3', 'Topics': ['Dictionaries', 'Iterators'], 'Focus': 'Learn', 'Reasoning': 'Beginner2 knowledge level, in-depth learning and practice'}\n",
      "{'Study_Time': 'Day 4', 'Topics': ['Loops', 'ControlFlow'], 'Focus': 'Review', 'Reasoning': 'Intermediate knowledge level, periodic review to retain information'}\n",
      "{'Study_Time': 'Day 5', 'Topics': ['Functions', 'Imports'], 'Focus': 'Review', 'Reasoning': 'Intermediate knowledge level, periodic review to retain information'}\n",
      "{'Study_Time': 'Day 6', 'Topics': ['Input and Output', 'OOP'], 'Focus': 'Learn', 'Reasoning': 'Beginner2 knowledge level, in-depth learning and practice'}\n",
      "{'Study_Time': 'Day 7', 'Topics': ['Decorators and ContextManagers'], 'Focus': 'Learn', 'Reasoning': 'Beginner2 knowledge level, in-depth learning and practice'}\n",
      "{'Study_Time': 'Day 8', 'Topics': ['Variables_and_DataTypes', 'ErrorHandling', 'Loops'], 'Focus': 'Review', 'Reasoning': 'Combined review of related intermediate topics'}\n",
      "{'Study_Time': 'Day 9', 'Topics': ['List', 'Tuple', 'Set', 'Dictionaries'], 'Focus': 'Review', 'Reasoning': 'Combined review of related beginner2 topics'}\n",
      "{'Study_Time': 'Day 10', 'Topics': ['Iterators', 'Imports', 'Input and Output'], 'Focus': 'Review', 'Reasoning': 'Combined review of related beginner2 topics'}\n",
      "{'Study_Time': 'Day 11', 'Topics': ['Functions', 'OOP', 'Decorators and ContextManagers'], 'Focus': 'Review', 'Reasoning': 'Combined review of related beginner2 and intermediate topics'}\n",
      "{'Study_Time': 'Day 12', 'Topics': ['ControlFlow', 'ErrorHandling'], 'Focus': 'Review', 'Reasoning': 'Periodic review to retain information'}\n",
      "{'Study_Time': 'Day 13', 'Topics': ['List', 'Tuple', 'Set'], 'Focus': 'Review', 'Reasoning': 'Periodic review to retain information'}\n",
      "{'Study_Time': 'Day 14', 'Topics': ['Dictionaries', 'Iterators'], 'Focus': 'Review', 'Reasoning': 'Periodic review to retain information'}\n",
      "{'Study_Time': 'Day 15', 'Topics': ['Loops', 'ControlFlow'], 'Focus': 'Review', 'Reasoning': 'Periodic review to retain information'}\n",
      "{'Study_Time': 'Day 16', 'Topics': ['Functions', 'Imports'], 'Focus': 'Review', 'Reasoning': 'Periodic review to retain information'}\n",
      "{'Study_Time': 'Day 17', 'Topics': ['Input and Output', 'OOP'], 'Focus': 'Review', 'Reasoning': 'Periodic review to retain information'}\n",
      "{'Study_Time': 'Day 18', 'Topics': ['Decorators and ContextManagers'], 'Focus': 'Review', 'Reasoning': 'Periodic review to retain information'}\n",
      "{'Study_Time': 'Day 19', 'Topics': ['Variables_and_DataTypes', 'ErrorHandling', 'Loops'], 'Focus': 'Review', 'Reasoning': 'Combined review of related intermediate topics'}\n",
      "{'Study_Time': 'Day 20', 'Topics': ['List', 'Tuple', 'Set', 'Dictionaries'], 'Focus': 'Review', 'Reasoning': 'Combined review of related beginner2 topics'}\n",
      "{'Study_Time': 'Day 21', 'Topics': ['Iterators', 'Imports', 'Input and Output'], 'Focus': 'Review', 'Reasoning': 'Combined review of related beginner2 topics'}\n",
      "{'Study_Time': 'Day 22', 'Topics': ['Functions', 'OOP', 'Decorators and ContextManagers'], 'Focus': 'Review', 'Reasoning': 'Combined review of related beginner2 and intermediate topics'}\n",
      "{'Study_Time': 'Day 23', 'Topics': ['ControlFlow', 'ErrorHandling'], 'Focus': 'Review', 'Reasoning': 'Periodic review to retain information'}\n",
      "{'Study_Time': 'Day 24', 'Topics': ['List', 'Tuple', 'Set'], 'Focus': 'Review', 'Reasoning': 'Periodic review to retain information'}\n",
      "{'Study_Time': 'Day 25', 'Topics': ['Dictionaries', 'Iterators'], 'Focus': 'Review', 'Reasoning': 'Periodic review to retain information'}\n",
      "{'Study_Time': 'Day 26', 'Topics': ['Loops', 'ControlFlow'], 'Focus': 'Review', 'Reasoning': 'Periodic review to retain information'}\n",
      "{'Study_Time': 'Day 27', 'Topics': ['Functions', 'Imports'], 'Focus': 'Review', 'Reasoning': 'Periodic review to retain information'}\n",
      "{'Study_Time': 'Day 28', 'Topics': ['Input and Output', 'OOP'], 'Focus': 'Review', 'Reasoning': 'Periodic review to retain information'}\n",
      "{'Study_Time': 'Day 29', 'Topics': ['Decorators and ContextManagers'], 'Focus': 'Review', 'Reasoning': 'Periodic review to retain information'}\n",
      "{'Study_Time': 'Day 30', 'Topics': ['Variables_and_DataTypes', 'ErrorHandling', 'Loops'], 'Focus': 'Review', 'Reasoning': 'Final combined review of related intermediate topics'}\n"
     ]
    }
   ],
   "source": [
    "for i in Task3_Json:\n",
    "    print(i)"
   ]
  },
  {
   "cell_type": "code",
   "execution_count": 13,
   "metadata": {},
   "outputs": [
    {
     "name": "stdout",
     "output_type": "stream",
     "text": [
      "End the process\n"
     ]
    }
   ],
   "source": [
    "print(\"End the process\")"
   ]
  }
 ],
 "metadata": {
  "kernelspec": {
   "display_name": "base",
   "language": "python",
   "name": "python3"
  },
  "language_info": {
   "codemirror_mode": {
    "name": "ipython",
    "version": 3
   },
   "file_extension": ".py",
   "mimetype": "text/x-python",
   "name": "python",
   "nbconvert_exporter": "python",
   "pygments_lexer": "ipython3",
   "version": "3.11.7"
  }
 },
 "nbformat": 4,
 "nbformat_minor": 2
}
