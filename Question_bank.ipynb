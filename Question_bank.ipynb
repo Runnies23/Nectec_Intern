{
 "cells": [
  {
   "cell_type": "code",
   "execution_count": 3,
   "metadata": {},
   "outputs": [],
   "source": [
    "import pandas as pd\n",
    "import json\n",
    "import os\n",
    "import random\n",
    "import requests\n",
    "from Question_bank_Prompt import * \n",
    "from Prompt import * "
   ]
  },
  {
   "cell_type": "code",
   "execution_count": 4,
   "metadata": {},
   "outputs": [],
   "source": [
    "Learning_goal = input()\n",
    "Time = input()\n",
    "Topic = \"python\"\n",
    "Response = []"
   ]
  },
  {
   "cell_type": "code",
   "execution_count": 5,
   "metadata": {},
   "outputs": [],
   "source": [
    "df_concept = pd.read_csv('Question_bank_Python/Question_bank_v2.csv')\n",
    "Question_bank_df =  pd.read_csv(\"Question_bank_Python/Concat_Question_Bank_Topic_V2_BIG_Clearning.csv\")"
   ]
  },
  {
   "cell_type": "markdown",
   "metadata": {},
   "source": [
    "#### RandoM"
   ]
  },
  {
   "cell_type": "code",
   "execution_count": 6,
   "metadata": {},
   "outputs": [],
   "source": [
    "Question_bank_topic = Question_bank_df['Topic'].unique()\n",
    "Question_bank_topic = ['\\t- ' + i for i in Question_bank_topic]\n",
    "Question_bank_topics = '\\n'.join(Question_bank_topic)"
   ]
  },
  {
   "cell_type": "markdown",
   "metadata": {},
   "source": [
    "# Query 1"
   ]
  },
  {
   "cell_type": "markdown",
   "metadata": {},
   "source": [
    "## FIrst questipn"
   ]
  },
  {
   "cell_type": "code",
   "execution_count": 9,
   "metadata": {},
   "outputs": [
    {
     "name": "stdout",
     "output_type": "stream",
     "text": [
      "Question : เมื่อคุณใช้ฟังก์ชัน map() ใน Python, คุณต้องการทำอะไร?\n",
      "\n",
      "1. กรองข้อมูลจากลิสต์\n",
      "2. สร้างลิสต์ใหม่โดยการประมวลผลแต่ละข้อมูล\n",
      "3. รวมข้อมูลจากหลายลิสต์\n",
      "4. ตรวจสอบเงื่อนไขในลิสต์\n",
      "[0.25, 1, 0, 0.5]\n"
     ]
    }
   ],
   "source": [
    "Response = []\n",
    "Index_list = df_concept['Index']\n",
    "Index_rand = random.choice(Index_list)\n",
    "rows = df_concept.iloc[Index_rand]\n",
    "print(f\"Question : {rows['Question']}\\n\")\n",
    "value = json.loads(rows['Choice'].replace(\"'\",'\"'))\n",
    "weight = [i['weight'] for i in value]\n",
    "for index, i in enumerate(value):\n",
    "    print(f\"{index+1}. {i['text']}\")\n",
    "print(weight)\n",
    "decision = int(input()) -1 \n",
    "Response.append({\n",
    "    \"Question\" : rows['Question'],\n",
    "    \"Topic\" : \"Overview of Python\",\n",
    "    \"Level\" : \"Medium\",\n",
    "    \"Answer\" : (weight[decision], value[decision]['text']),\n",
    "    \"Best Answer\" : (weight[weight.index(max(weight))], value[weight.index(max(weight))]['text']),\n",
    "    \"Chain_of_Thought\" : None\n",
    "})"
   ]
  },
  {
   "cell_type": "markdown",
   "metadata": {},
   "source": [
    "## Loop "
   ]
  },
  {
   "cell_type": "code",
   "execution_count": 11,
   "metadata": {},
   "outputs": [
    {
     "name": "stdout",
     "output_type": "stream",
     "text": [
      "2\n",
      "Functions Hard\n",
      "Question : ฟังก์ชันในภาษาไพธอนสามารถใช้เป็นตัวแปลงข้อมูลได้หรือไม่?\n",
      "\n",
      "1. ไม่สามารถใช้เป็นตัวแปลงข้อมูล\n",
      "2. สามารถใช้เป็นตัวแปลงข้อมูล\n",
      "3. ขึ้นอยู่กับขนาดของฟังก์ชัน\n",
      "4. ขึ้นอยู่กับการกำหนดค่าเริ่มต้น\n",
      "[0, 1, 0, 0]\n"
     ]
    }
   ],
   "source": [
    "print(len(Response)+1)\n",
    "Query = QueryTyphoon_70b(Prompt_Func(Question_bank_topics,Previous_Question_Text(Response)),token=2048)\n",
    "response = json.loads(Query)\n",
    "print(response['Topic'],response['Level'])\n",
    "if response['Mode'] == 1:\n",
    "    if response['Topic'] == 'Overview of Python':\n",
    "        Index = Select_topic_and_level(response['Topic'],response['Level'],DF=df_concept)\n",
    "        Random_Choice_Index = random.choice(Index)\n",
    "        rows = df_concept.iloc[Random_Choice_Index]\n",
    "    else:\n",
    "        Index = Select_topic_and_level(response['Topic'],response['Level'])\n",
    "        Random_Choice_Index = random.choice(Index)\n",
    "        rows = Question_bank_df.iloc[Random_Choice_Index]\n",
    "    print(f\"Question : {rows['Question']}\\n\")\n",
    "    value = json.loads(rows['Choice'].replace(\"'\",'\"'))\n",
    "    weight = [i['weight'] for i in value]\n",
    "    for index, i in enumerate(value):\n",
    "        print(f\"{index+1}. {i['text']}\")\n",
    "    print(weight)\n",
    "    decision = int(input()) -1 \n",
    "    Response.append({\n",
    "        \"Question\" : rows['Question'],\n",
    "        \"Topic\" : rows['Topic'],\n",
    "        \"Level\" : rows['Level'],\n",
    "        \"Answer\" : (weight[decision], value[decision]['text']),\n",
    "        \"Best Answer\" : (weight[weight.index(max(weight))], value[weight.index(max(weight))]['text']),\n",
    "        \"Chain_of_Thought\" : response['Chain_of_Thought']\n",
    "    })\n",
    "    # print(Response)\n",
    "\n",
    "if response['Mode'] == 2: \n",
    "    print(2)"
   ]
  },
  {
   "cell_type": "markdown",
   "metadata": {},
   "source": [
    "# Query 2 "
   ]
  },
  {
   "cell_type": "code",
   "execution_count": 12,
   "metadata": {},
   "outputs": [],
   "source": [
    "Task2_Level_measure_Query = QueryTyphoon_70b(Task2_Measure_prompt(Previous_Question_Text(Response)))\n",
    "Task2_Level_measure_Json = json.loads(Task2_Level_measure_Query)"
   ]
  },
  {
   "cell_type": "code",
   "execution_count": 13,
   "metadata": {},
   "outputs": [
    {
     "data": {
      "text/plain": [
       "[{'Topic': 'Overview of Python',\n",
       "  'Knowledge_Level': 'Intermediate',\n",
       "  'Percentage': 100,\n",
       "  'Chain_of_Thought': 'The student answered correctly, demonstrating a clear understanding of the map() function.'},\n",
       " {'Topic': 'Functions',\n",
       "  'Knowledge_Level': 'Intermediate',\n",
       "  'Percentage': 100,\n",
       "  'Chain_of_Thought': 'The student answered correctly, showing a solid comprehension of functions as data transformers.'}]"
      ]
     },
     "execution_count": 13,
     "metadata": {},
     "output_type": "execute_result"
    }
   ],
   "source": [
    "Task2_final_each_level_Query = QueryTyphoon_70b(Task2_3_eachtopic(Topic,Question_bank_topics,Task2_Level_measure_Json[\"Level\"],Previous_Question_Text(Response)),token=2048)\n",
    "Task2_final_each_level_Json = json.loads(Task2_final_each_level_Query)\n",
    "Task2_final_each_level_Json"
   ]
  },
  {
   "cell_type": "code",
   "execution_count": 14,
   "metadata": {},
   "outputs": [
    {
     "name": "stdout",
     "output_type": "stream",
     "text": [
      "Student Level : Intermediate\n"
     ]
    }
   ],
   "source": [
    "Task2_final_each_level = []\n",
    "print(f\"Student Level : {Task2_Level_measure_Json['Level']}\")\n",
    "for i in Task2_final_each_level_Json:\n",
    "    Task2_final_each_level.append(f\"- {i['Topic']} : {i['Knowledge_Level']}\")"
   ]
  },
  {
   "cell_type": "code",
   "execution_count": 15,
   "metadata": {},
   "outputs": [
    {
     "name": "stdout",
     "output_type": "stream",
     "text": [
      "- Overview of Python : Intermediate\n",
      "\t- Functions : Intermediate\n"
     ]
    }
   ],
   "source": [
    "Task2_final_each_level_Text = '\\n\\t'.join(Task2_final_each_level)\n",
    "print(Task2_final_each_level_Text)"
   ]
  },
  {
   "cell_type": "code",
   "execution_count": null,
   "metadata": {},
   "outputs": [],
   "source": [
    "Task3_Query = QueryTyphoon_70b(Task3_Prompt(Time,Task2_final_each_level_Text,Task2_Level_measure_Json['Level']),token=2048)\n",
    "Task3_Json = json.loads(Task3_Query)\n",
    "Task3_Json"
   ]
  },
  {
   "cell_type": "code",
   "execution_count": null,
   "metadata": {},
   "outputs": [],
   "source": [
    "for i in Task3_Json:\n",
    "    print(i)"
   ]
  }
 ],
 "metadata": {
  "kernelspec": {
   "display_name": "base",
   "language": "python",
   "name": "python3"
  },
  "language_info": {
   "codemirror_mode": {
    "name": "ipython",
    "version": 3
   },
   "file_extension": ".py",
   "mimetype": "text/x-python",
   "name": "python",
   "nbconvert_exporter": "python",
   "pygments_lexer": "ipython3",
   "version": "3.11.7"
  }
 },
 "nbformat": 4,
 "nbformat_minor": 2
}
